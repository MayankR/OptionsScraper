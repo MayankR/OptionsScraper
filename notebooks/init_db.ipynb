{
 "cells": [
  {
   "cell_type": "code",
   "execution_count": 1,
   "metadata": {},
   "outputs": [],
   "source": [
    "import mysql.connector"
   ]
  },
  {
   "cell_type": "code",
   "execution_count": 2,
   "metadata": {},
   "outputs": [],
   "source": [
    "mydb = mysql.connector.connect(\n",
    "   host=\"localhost\",\n",
    "#     host=\"127.0.0.1\",\n",
    "    port=3306,\n",
    "    user=\"root\",\n",
    "    password=\"AskYoMama\",\n",
    "    database=\"options_screener\"\n",
    ")\n",
    "\n",
    "mycursor = mydb.cursor()"
   ]
  },
  {
   "cell_type": "code",
   "execution_count": 8,
   "metadata": {},
   "outputs": [],
   "source": [
    "mycursor.execute(\"\"\"CREATE TABLE contracts (\n",
    "        name VARCHAR(40) PRIMARY KEY,\n",
    "        ticker VARCHAR(40) NOT NULL,\n",
    "        type VARCHAR(40) NOT NULL,\n",
    "        strike DECIMAL(15,2) NOT NULL,\n",
    "        last DECIMAL(15,2) NOT NULL,\n",
    "        bid DECIMAL(15,2) NOT NULL,\n",
    "        ask DECIMAL(15,2) NOT NULL,\n",
    "        vol DECIMAL(15,2) NOT NULL,\n",
    "        iv DECIMAL(5,2) NOT NULL,\n",
    "        expiry DATE NOT NULL)\"\"\")"
   ]
  },
  {
   "cell_type": "code",
   "execution_count": 6,
   "metadata": {},
   "outputs": [],
   "source": [
    "mycursor.execute(\"\"\"DROP TABLE contracts\"\"\")"
   ]
  },
  {
   "cell_type": "code",
   "execution_count": null,
   "metadata": {},
   "outputs": [],
   "source": []
  }
 ],
 "metadata": {
  "kernelspec": {
   "display_name": "Python 3",
   "language": "python",
   "name": "python3"
  },
  "language_info": {
   "codemirror_mode": {
    "name": "ipython",
    "version": 3
   },
   "file_extension": ".py",
   "mimetype": "text/x-python",
   "name": "python",
   "nbconvert_exporter": "python",
   "pygments_lexer": "ipython3",
   "version": "3.7.3"
  }
 },
 "nbformat": 4,
 "nbformat_minor": 4
}
